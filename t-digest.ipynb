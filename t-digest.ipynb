{
 "metadata": {
  "name": "",
  "signature": "sha256:d41323b0f70bcbb3b3832953533b697076d41f4c43b44e5cf5681bb70fd77bd4"
 },
 "nbformat": 3,
 "nbformat_minor": 0,
 "worksheets": [
  {
   "cells": [
    {
     "cell_type": "markdown",
     "metadata": {},
     "source": [
      "https://github.com/tdunning/t-digest"
     ]
    },
    {
     "cell_type": "code",
     "collapsed": false,
     "input": [
      "import numpy as np\n",
      "import matplotlib as plt\n",
      "import pandas as pd\n",
      "import seaborn as sbn\n",
      "%matplotlib inline"
     ],
     "language": "python",
     "metadata": {},
     "outputs": [],
     "prompt_number": 4
    },
    {
     "cell_type": "code",
     "collapsed": false,
     "input": [
      "delta = 0.001\n",
      "K = 1000"
     ],
     "language": "python",
     "metadata": {},
     "outputs": [],
     "prompt_number": 33
    },
    {
     "cell_type": "code",
     "collapsed": false,
     "input": [
      "C = [{\"mean\":0,\"count\":0}] # Empty ordered list of centroids (mean and count)\n",
      "delta = 0.01  # accuracy"
     ],
     "language": "python",
     "metadata": {},
     "outputs": [],
     "prompt_number": 2
    },
    {
     "cell_type": "code",
     "collapsed": false,
     "input": [
      "q = np.linspace(0,1,num=100)\n",
      "n = np.linspace(1,100,num=100)\n",
      "thresh = np.zeros((100,100))\n",
      "for i, quantile in enumerate(q):\n",
      "    for j, n_elements in enumerate(n):\n",
      "        thresh[i,j] = threshold(quantile, n_elements)\n",
      "        \n",
      "plt.pyplot.matshow(thresh)\n",
      "plt.pyplot.xlabel('quantile')\n",
      "plt.pyplot.ylabel('n_elements')\n",
      "plt.pyplot.colorbar()"
     ],
     "language": "python",
     "metadata": {},
     "outputs": [
      {
       "metadata": {},
       "output_type": "pyout",
       "prompt_number": 28,
       "text": [
        "<matplotlib.colorbar.Colorbar instance at 0x109426320>"
       ]
      },
      {
       "metadata": {},
       "output_type": "display_data",
       "png": "[encoded data removed]",
       "text": [
        "<matplotlib.figure.Figure at 0x10aa40550>"
       ]
      }
     ],
     "prompt_number": 28
    },
    {
     "cell_type": "code",
     "collapsed": false,
     "input": [
      "def threshold(q, n):\n",
      "    \"\"\"\n",
      "    :param q: quantile\n",
      "    :param n: number of count in bin\n",
      "    :return: treshold value\n",
      "    \"\"\"\n",
      "    assert q <= 1\n",
      "    assert q >= 0\n",
      "    assert n >= 0\n",
      "    \n",
      "    return 4*delta*q*(1 - q)*n"
     ],
     "language": "python",
     "metadata": {},
     "outputs": [],
     "prompt_number": 34
    },
    {
     "cell_type": "code",
     "collapsed": false,
     "input": [
      "def approximate_quantile(i):\n",
      "    \"\"\"\n",
      "    \n",
      "    \"\"\"\n",
      "    \n",
      "    quantile = 0\n",
      "    for centroid in C[:i]:\n",
      "         quantile += centroid['count'] \n",
      "    \n",
      "    total_count = quantile\n",
      "    for centroid in C[i:]:\n",
      "        total_count += centroid['count']\n",
      "        \n",
      "    quantile = (C[i]['count']/2 + quantile) / total_count"
     ],
     "language": "python",
     "metadata": {},
     "outputs": [],
     "prompt_number": 35
    },
    {
     "cell_type": "code",
     "collapsed": false,
     "input": [
      "def nearest_centroid(x):\n",
      "    \"\"\"\n",
      "    :param x: incoming value\n",
      "    \"\"\"\n",
      "    i = -1  # Closest centroid\n",
      "    min_dist = -1\n",
      "    for j, centroid in enumerate(C):\n",
      "        if np.abs(centroid['mean'] - x) < min_dist:\n",
      "            # Save the closest centroid index\n",
      "            i = j\n",
      "    return i"
     ],
     "language": "python",
     "metadata": {},
     "outputs": [],
     "prompt_number": 36
    },
    {
     "cell_type": "code",
     "collapsed": false,
     "input": [
      "def minimum_distance(x):\n",
      "    \"\"\"\n",
      "    Find the closet distance to any centroid\n",
      "    :param x: sample value to find centroids close to \n",
      "    :return: minimum distance\n",
      "    \"\"\"\n",
      "    min_dist = np.inf\n",
      "    for j, centroid in enumerate(C):\n",
      "        if np.abs(centroid['mean'] - x) < min_dist:\n",
      "            min_dist = np.abs(centroid['mean'] - x)\n",
      "            \n",
      "    return min_dist"
     ],
     "language": "python",
     "metadata": {},
     "outputs": [],
     "prompt_number": 37
    },
    {
     "cell_type": "code",
     "collapsed": false,
     "input": [
      "def approximate_all_quantiles():\n",
      "    \"\"\"\n",
      "    Re-approximate all the quantiles of the centroids\n",
      "    :return: Nothing. Modifes C in place\n",
      "    \"\"\"\n",
      "    for j, centroid in enumerate(C):\n",
      "        C[j].setdefault(\"quantile\", approximate_quantile(j))\n",
      "        "
     ],
     "language": "python",
     "metadata": {},
     "outputs": [],
     "prompt_number": 38
    },
    {
     "cell_type": "code",
     "collapsed": false,
     "input": [
      "def gather_centroids(x, w, min_dist):\n",
      "    \"\"\"\n",
      "    Find all the centroids that are distance min_dist from x\n",
      "    \n",
      "    :param x: New sample value\n",
      "    :param w: sample value weight\n",
      "    :param min_dist: Distance to find centroids\n",
      "    :return: list of centroids indexs min_dist from x\n",
      "    \"\"\"\n",
      "    S_idx = [] # List of centroid indexes \n",
      "    for j, centroid in enumerate(C):\n",
      "        if np.abs(centroid['mean'] - x) == min_dist:\n",
      "            th = threshold(centroid['quantile'], centroid['count'])\n",
      "            if (centroid['count'] + w) <= th:\n",
      "                S_idx.append(j)\n",
      "    \n",
      "    return S_idx"
     ],
     "language": "python",
     "metadata": {},
     "outputs": [],
     "prompt_number": 39
    },
    {
     "cell_type": "code",
     "collapsed": false,
     "input": [
      "def add_centroid(x, w):\n",
      "    \"\"\"\n",
      "    Add a new centroid to the ordered list\n",
      "    :param x: Centroid mean\n",
      "    :param w: New centroid count\n",
      "    :return: Nothing. Modifies C in place\n",
      "    \"\"\"\n",
      "    c_new = {'mean': x, 'count': w}\n",
      "    \n",
      "    # If x is the biggest, add it to the end and leave\n",
      "    if C[-1]['mean'] <= c_new['mean']:\n",
      "        C.append(c_new)\n",
      "        return\n",
      "    else:\n",
      "        # Find where to insert x so that C stays ordered\n",
      "        for j, centroid in enumerate(C):\n",
      "            if x < centroid['mean']:\n",
      "                C.insert(j, c_new)\n",
      "                return\n",
      "    \n",
      "    # This shouldn't happen\n",
      "    raise\n",
      "    \n",
      "        "
     ],
     "language": "python",
     "metadata": {},
     "outputs": [],
     "prompt_number": 40
    },
    {
     "cell_type": "code",
     "collapsed": false,
     "input": [
      "import random\n",
      "\n",
      "X = np.random.randn(100)\n",
      "W = np.ones(100)\n",
      "\n",
      "tdigest(X, W)"
     ],
     "language": "python",
     "metadata": {},
     "outputs": []
    },
    {
     "cell_type": "code",
     "collapsed": false,
     "input": [
      "def tdigest(X, W):\n",
      "    \"\"\"\n",
      "    \n",
      "    \"\"\"\n",
      "    for x, w in zip(X, W):\n",
      "        # Re-estimae the approximate quantiles of all the centroids\n",
      "        approximate_all_quantiles()\n",
      "\n",
      "        min_dist = minimum_distance(x)\n",
      "        S = gather_centroids(x, w, min_dist)\n",
      "        while len(S) > 0 and w > 0:\n",
      "            # Choose a random index from the consideration list\n",
      "            s_idx = np.random.randint(0, len(S))\n",
      "            j = S[s_idx]\n",
      "            tmp = threshold(C[j]['quantile'], C[j]['count']) - C[j]['count']\n",
      "            if tmp < w:\n",
      "                delta_w = tmp\n",
      "            else:\n",
      "                delta_w = w\n",
      "\n",
      "            # Update the weights\n",
      "            C[j]['count'] += delta_w\n",
      "            # Shift the centroid's mean\n",
      "            C[j]['mean'] += delta_w*(x - C[j]['mean'])/C[j]['count']\n",
      "            # Take left-over weight\n",
      "            w -= delta_w\n",
      "            # Remove this centroid index from the consideration list\n",
      "            S.pop(s_idx)\n",
      "\n",
      "        # If we didn't fully portion out the weight\n",
      "        if w > 0:\n",
      "            add_centroid(x, w)\n",
      "            \n",
      "        if len(C) > K/delta:\n",
      "            # Too many centroids. Recompute the digest\n",
      "            random.shuffle(C)"
     ],
     "language": "python",
     "metadata": {},
     "outputs": []
    },
    {
     "cell_type": "code",
     "collapsed": false,
     "input": [],
     "language": "python",
     "metadata": {},
     "outputs": [
      {
       "metadata": {},
       "output_type": "pyout",
       "prompt_number": 32,
       "text": [
        "False"
       ]
      }
     ],
     "prompt_number": 32
    },
    {
     "cell_type": "code",
     "collapsed": false,
     "input": [],
     "language": "python",
     "metadata": {},
     "outputs": []
    }
   ],
   "metadata": {}
  }
 ]
}